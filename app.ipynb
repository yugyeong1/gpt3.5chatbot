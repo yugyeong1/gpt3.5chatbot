{
 "cells": [
  {
   "cell_type": "code",
   "execution_count": 1,
   "metadata": {},
   "outputs": [],
   "source": [
    "import openai"
   ]
  },
  {
   "cell_type": "code",
   "execution_count": 2,
   "metadata": {},
   "outputs": [],
   "source": [
    "question = \"안녕 만나서 반가워\""
   ]
  },
  {
   "cell_type": "code",
   "execution_count": 5,
   "metadata": {},
   "outputs": [
    {
     "name": "stdout",
     "output_type": "stream",
     "text": [
      "반가워여, 저는 네가 잘 지내고 있는지 궁금합니다!\n"
     ]
    }
   ],
   "source": [
    "openai.api_key = OPENAI_SECRET_KEY\n",
    "response = openai.Completion.create(\n",
    "model=\"text-davinci-003\",\n",
    "prompt=question,\n",
    "temperature=0.9,\n",
    "max_tokens=500,\n",
    "top_p=1,\n",
    "frequency_penalty=0,\n",
    "presence_penalty=0.6\n",
    ")\n",
    "\n",
    "generated_text = response.choices[0].text\n",
    "generated_text = generated_text.lstrip(\"\\n\")\n",
    "print(generated_text)\n"
   ]
  },
  {
   "cell_type": "code",
   "execution_count": 9,
   "metadata": {},
   "outputs": [],
   "source": [
    "system_message = \"You are a competent and kind trouble counselor who listens to people's concerns and provides helpful advice.\"\n",
    "content = \"나는 요즘 취업이 잘 되지 않아서 힘들어\""
   ]
  },
  {
   "cell_type": "code",
   "execution_count": 10,
   "metadata": {},
   "outputs": [
    {
     "name": "stdout",
     "output_type": "stream",
     "text": [
      "그것은 매우 어려운 상황일 수 있습니다. 그러나 해결 할 수있는 몇 가지 방법이 있습니다. 먼저, 취업 시장에서 적극적으로 활동하십시오. 인터넷에서 구직 사이트나 취업 정보 센터를 통해 일자리를 찾아보시고, 이력서와 자기소개서를 업데이트하고, 계속 면접 노력을 기울이시기 바랍니다. 또한, 추천서를 받아 보세요. 우리 주위에는 고용주와 연락을 유지하며 일자리 기회를 제공하는 사람들이 많습니다. 또한 취업이 잘 되지 않을 때는 Willingness to learn을 강조하면 좋습니다. 새로운 기술을 배울 의지가 있고 배워서 업무에 적극 적용할 것을 약속한다면 고용주들이 추구하는 인재로 떠오르게 됩니다.\n",
      "무엇보다도 긍정적이고 희망적인 마인드를 유지하며, 너무 자책하지 마십시오. 스트레스를 줄이기 위해 운동이나 건강한 라이프 스타일을 유지하시기 바랍니다. 모든 것은 시간 문제입니다. 꾸준히 노력하고 참익성을 유지하는 한, 좋은 전망이 있습니다. \n",
      " 저는 당신이 성공할 수 있도록 희망과 응원을 보내드립니다!\n"
     ]
    }
   ],
   "source": [
    "completion = openai.ChatCompletion.create(\n",
    "    model=\"gpt-3.5-turbo\",\n",
    "    messages=[\n",
    "        {\"role\": \"system\", \"content\": system_message},\n",
    "        {\"role\": \"user\", \"content\": content}\n",
    "    ]\n",
    ")\n",
    "\n",
    "print(completion.choices[0].message['content'].strip())\n"
   ]
  },
  {
   "cell_type": "code",
   "execution_count": null,
   "metadata": {},
   "outputs": [],
   "source": []
  }
 ],
 "metadata": {
  "kernelspec": {
   "display_name": "lambda39",
   "language": "python",
   "name": "python3"
  },
  "language_info": {
   "codemirror_mode": {
    "name": "ipython",
    "version": 3
   },
   "file_extension": ".py",
   "mimetype": "text/x-python",
   "name": "python",
   "nbconvert_exporter": "python",
   "pygments_lexer": "ipython3",
   "version": "3.9.16"
  },
  "orig_nbformat": 4
 },
 "nbformat": 4,
 "nbformat_minor": 2
}
